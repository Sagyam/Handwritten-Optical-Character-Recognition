{
 "cells": [
  {
   "cell_type": "code",
   "execution_count": null,
   "metadata": {
    "execution": {
     "iopub.execute_input": "2021-12-19T00:36:24.706356Z",
     "iopub.status.busy": "2021-12-19T00:36:24.705946Z",
     "iopub.status.idle": "2021-12-19T00:36:33.825725Z",
     "shell.execute_reply": "2021-12-19T00:36:33.824563Z",
     "shell.execute_reply.started": "2021-12-19T00:36:24.706272Z"
    },
    "trusted": true
   },
   "outputs": [],
   "source": [
    "!pip install split-folders"
   ]
  },
  {
   "cell_type": "code",
   "execution_count": null,
   "metadata": {},
   "outputs": [],
   "source": [
    "import kagglehub\n",
    "\n",
    "# Download latest version\n",
    "data_dir = kagglehub.dataset_download(\"sagyamthapa/handwritten-math-symbols\")\n",
    "\n",
    "print(\"Path to dataset files:\", data_dir)"
   ]
  },
  {
   "cell_type": "code",
   "execution_count": null,
   "metadata": {
    "execution": {
     "iopub.execute_input": "2021-12-19T00:36:33.833926Z",
     "iopub.status.busy": "2021-12-19T00:36:33.833195Z",
     "iopub.status.idle": "2021-12-19T00:36:33.838190Z",
     "shell.execute_reply": "2021-12-19T00:36:33.837490Z",
     "shell.execute_reply.started": "2021-12-19T00:36:33.833880Z"
    },
    "trusted": true
   },
   "outputs": [],
   "source": [
    "data_dir = '/kaggle/input/handwritten-math-symbols/dataset'\n",
    "import splitfolders\n",
    "splitfolders.ratio(data_dir, output=\"output\", seed=1337, ratio=(.8, 0.1,0.1))"
   ]
  },
  {
   "cell_type": "code",
   "execution_count": null,
   "metadata": {
    "_kg_hide-output": true,
    "execution": {
     "iopub.execute_input": "2021-12-19T00:36:33.839904Z",
     "iopub.status.busy": "2021-12-19T00:36:33.839586Z",
     "iopub.status.idle": "2021-12-19T00:36:56.804067Z",
     "shell.execute_reply": "2021-12-19T00:36:56.803339Z",
     "shell.execute_reply.started": "2021-12-19T00:36:33.839867Z"
    },
    "trusted": true
   },
   "outputs": [],
   "source": [
    "import splitfolders\n",
    "splitfolders.ratio(data_dir, output=\"output\", seed=1337, ratio=(.8, 0.1,0.1))"
   ]
  },
  {
   "cell_type": "code",
   "execution_count": 4,
   "metadata": {
    "execution": {
     "iopub.execute_input": "2021-12-19T00:36:56.806568Z",
     "iopub.status.busy": "2021-12-19T00:36:56.806164Z",
     "iopub.status.idle": "2021-12-19T00:36:56.810343Z",
     "shell.execute_reply": "2021-12-19T00:36:56.809483Z",
     "shell.execute_reply.started": "2021-12-19T00:36:56.806529Z"
    },
    "trusted": true
   },
   "outputs": [],
   "source": [
    "train_path = \"./output/train\"\n",
    "test_path  = \"./output/test\"\n",
    "val_path = \"./output/val\""
   ]
  },
  {
   "cell_type": "code",
   "execution_count": 5,
   "metadata": {
    "execution": {
     "iopub.execute_input": "2021-12-19T00:36:56.812038Z",
     "iopub.status.busy": "2021-12-19T00:36:56.811581Z",
     "iopub.status.idle": "2021-12-19T00:37:02.601270Z",
     "shell.execute_reply": "2021-12-19T00:37:02.600523Z",
     "shell.execute_reply.started": "2021-12-19T00:36:56.811999Z"
    },
    "trusted": true
   },
   "outputs": [],
   "source": [
    "import os\n",
    "import pandas as pd\n",
    "from glob import glob\n",
    "import numpy as np \n",
    "import matplotlib.pyplot as plt\n",
    "from matplotlib.image import imread \n",
    "import seaborn as sns \n",
    "import tensorflow as tf\n",
    "from tensorflow.keras.models import Sequential\n",
    "from tensorflow.keras.layers import Activation, Dropout, Flatten, Dense, Conv2D, MaxPooling2D, BatchNormalization,GlobalAveragePooling2D\n",
    "from tensorflow.keras.models import Model\n",
    "from tensorflow.keras.preprocessing import image\n",
    "from tensorflow.keras.preprocessing.image import ImageDataGenerator\n",
    "from tensorflow.keras import regularizers\n",
    "from tensorflow.keras.optimizers import Adam, Adamax\n",
    "%matplotlib inline"
   ]
  },
  {
   "cell_type": "code",
   "execution_count": 6,
   "metadata": {
    "execution": {
     "iopub.execute_input": "2021-12-19T00:37:02.602956Z",
     "iopub.status.busy": "2021-12-19T00:37:02.602680Z",
     "iopub.status.idle": "2021-12-19T00:37:02.609941Z",
     "shell.execute_reply": "2021-12-19T00:37:02.608958Z",
     "shell.execute_reply.started": "2021-12-19T00:37:02.602907Z"
    },
    "trusted": true
   },
   "outputs": [],
   "source": [
    "image_shape = (100,100,3)\n",
    "epochs = 8\n",
    "batch_size = 32"
   ]
  },
  {
   "cell_type": "code",
   "execution_count": 7,
   "metadata": {
    "execution": {
     "iopub.execute_input": "2021-12-19T00:37:02.613487Z",
     "iopub.status.busy": "2021-12-19T00:37:02.613288Z",
     "iopub.status.idle": "2021-12-19T00:37:02.625072Z",
     "shell.execute_reply": "2021-12-19T00:37:02.624278Z",
     "shell.execute_reply.started": "2021-12-19T00:37:02.613462Z"
    },
    "trusted": true
   },
   "outputs": [],
   "source": [
    "traindata_gen=ImageDataGenerator(\n",
    "                             rotation_range=10,\n",
    "                             rescale=1.0/255,\n",
    "                             width_shift_range=0.1,\n",
    "                             height_shift_range=0.1,\n",
    "                             shear_range=0.1,\n",
    "                             zoom_range=0.1,\n",
    "                             fill_mode='nearest'\n",
    "                              )\n",
    "\n",
    "testdata_gen=ImageDataGenerator(\n",
    "                             \n",
    "                             rescale=1.0/255,)\n",
    "\n",
    "valdatagen = ImageDataGenerator(\n",
    "                           rescale=1.0/255,\n",
    "                    )"
   ]
  },
  {
   "cell_type": "code",
   "execution_count": 8,
   "metadata": {
    "execution": {
     "iopub.execute_input": "2021-12-19T00:37:02.628727Z",
     "iopub.status.busy": "2021-12-19T00:37:02.628247Z",
     "iopub.status.idle": "2021-12-19T00:37:03.274826Z",
     "shell.execute_reply": "2021-12-19T00:37:03.274178Z",
     "shell.execute_reply.started": "2021-12-19T00:37:02.628694Z"
    },
    "trusted": true
   },
   "outputs": [],
   "source": [
    "\n",
    "train_set=traindata_gen.flow_from_directory(train_path,\n",
    "                                              target_size =image_shape[:2],\n",
    "                                                 batch_size = batch_size,\n",
    "                                                 class_mode = 'categorical',\n",
    "                                           shuffle=True,\n",
    "                                           seed=3301)\n",
    "\n",
    "test_set=testdata_gen.flow_from_directory(test_path,\n",
    "                                            target_size = image_shape[:2],\n",
    "                                                 batch_size = batch_size,\n",
    "                                                 class_mode = 'categorical',\n",
    "                                            shuffle=False)\n",
    "val_set = valdatagen.flow_from_directory(val_path,\n",
    "                                            target_size = image_shape[:2],\n",
    "                                                 batch_size = batch_size,\n",
    "                                                 class_mode = 'categorical',\n",
    "                                            shuffle=True )"
   ]
  },
  {
   "cell_type": "code",
   "execution_count": 9,
   "metadata": {
    "execution": {
     "iopub.execute_input": "2021-12-19T00:37:03.276397Z",
     "iopub.status.busy": "2021-12-19T00:37:03.276134Z",
     "iopub.status.idle": "2021-12-19T00:37:03.280916Z",
     "shell.execute_reply": "2021-12-19T00:37:03.280255Z",
     "shell.execute_reply.started": "2021-12-19T00:37:03.276361Z"
    },
    "trusted": true
   },
   "outputs": [],
   "source": [
    "class_labels = list(train_set.class_indices.keys())   \n",
    "num_classes = len(class_labels)\n",
    "print(class_labels)"
   ]
  },
  {
   "cell_type": "code",
   "execution_count": 10,
   "metadata": {
    "execution": {
     "iopub.execute_input": "2021-12-19T00:37:03.284265Z",
     "iopub.status.busy": "2021-12-19T00:37:03.283782Z",
     "iopub.status.idle": "2021-12-19T00:37:04.413946Z",
     "shell.execute_reply": "2021-12-19T00:37:04.413302Z",
     "shell.execute_reply.started": "2021-12-19T00:37:03.284227Z"
    },
    "trusted": true
   },
   "outputs": [],
   "source": [
    "plt.figure(figsize=(12, 12))\n",
    "for images, labels in train_set:\n",
    "    for i in range(9):\n",
    "        plt.subplot(330 + 1 + i)\n",
    "        image = images[i]\n",
    "        label = class_labels[np.argmax(labels[i])]\n",
    "        plt.imshow(image)\n",
    "        plt.title(label)\n",
    "    break\n"
   ]
  },
  {
   "cell_type": "code",
   "execution_count": 11,
   "metadata": {
    "execution": {
     "iopub.execute_input": "2021-12-19T00:37:04.415134Z",
     "iopub.status.busy": "2021-12-19T00:37:04.414877Z",
     "iopub.status.idle": "2021-12-19T00:37:08.154591Z",
     "shell.execute_reply": "2021-12-19T00:37:08.153864Z",
     "shell.execute_reply.started": "2021-12-19T00:37:04.415099Z"
    },
    "trusted": true
   },
   "outputs": [],
   "source": [
    "base_model=tf.keras.applications.MobileNetV2( include_top=False, input_shape=image_shape, pooling='max', weights='imagenet') \n",
    "x=base_model.output\n",
    "\n",
    "x=BatchNormalization(axis=-1, momentum=0.99, epsilon=0.001 )(x)\n",
    "x = Dense(1024, kernel_regularizer = regularizers.l2(l = 0.016) ,activation='relu', kernel_initializer= tf.keras.initializers.GlorotUniform(seed=123))(x)\n",
    "\n",
    "x=Dropout(rate=.3, seed=123)(x)         \n",
    "\n",
    "output=Dense(num_classes, activation='softmax',kernel_initializer=tf.keras.initializers.GlorotUniform(seed=123))(x)\n",
    "\n",
    "model=Model(inputs=base_model.input, outputs=output)\n",
    "model.compile(Adamax(learning_rate=.001), loss='categorical_crossentropy', metrics=['accuracy'])  \n",
    "\n",
    "early_stop=tf.keras.callbacks.EarlyStopping( monitor=\"val_loss\",  patience=2, verbose=1,restore_best_weights=True)"
   ]
  },
  {
   "cell_type": "code",
   "execution_count": 12,
   "metadata": {
    "execution": {
     "iopub.execute_input": "2021-12-19T00:37:08.156610Z",
     "iopub.status.busy": "2021-12-19T00:37:08.156114Z",
     "iopub.status.idle": "2021-12-19T00:41:47.116063Z",
     "shell.execute_reply": "2021-12-19T00:41:47.114945Z",
     "shell.execute_reply.started": "2021-12-19T00:37:08.156572Z"
    },
    "trusted": true
   },
   "outputs": [],
   "source": [
    "\n",
    "result = model.fit(\n",
    "  train_set,\n",
    "  epochs=epochs,\n",
    "  validation_data=val_set,\n",
    "  callbacks=[early_stop]\n",
    "    \n",
    ")"
   ]
  },
  {
   "cell_type": "code",
   "execution_count": 13,
   "metadata": {
    "execution": {
     "iopub.execute_input": "2021-12-19T00:41:47.118374Z",
     "iopub.status.busy": "2021-12-19T00:41:47.118104Z",
     "iopub.status.idle": "2021-12-19T00:41:47.507525Z",
     "shell.execute_reply": "2021-12-19T00:41:47.506887Z",
     "shell.execute_reply.started": "2021-12-19T00:41:47.118334Z"
    },
    "trusted": true
   },
   "outputs": [],
   "source": [
    "acc = result.history['accuracy']\n",
    "val_acc = result.history['val_accuracy']\n",
    "\n",
    "loss = result.history['loss']\n",
    "val_loss = result.history['val_loss']\n",
    "\n",
    "\n",
    "epochs_range = range(epochs)\n",
    "\n",
    "plt.figure(figsize=(16, 16))\n",
    "plt.subplot(1, 2, 1)\n",
    "plt.plot(epochs_range, acc, label='Training Accuracy')\n",
    "plt.plot(epochs_range, val_acc, label='Validation Accuracy')\n",
    "plt.legend(loc='lower right')\n",
    "plt.title('Training and Validation Accuracy')\n",
    "\n",
    "plt.subplot(1, 2, 2)\n",
    "plt.plot(epochs_range, loss, label='Training Loss')\n",
    "plt.plot(epochs_range, val_loss, label='Validation Loss')\n",
    "plt.legend(loc='upper right')\n",
    "plt.title('Training and Validation Loss')\n",
    "plt.show()"
   ]
  },
  {
   "cell_type": "code",
   "execution_count": null,
   "metadata": {
    "execution": {
     "iopub.execute_input": "2021-12-19T00:41:47.510050Z",
     "iopub.status.busy": "2021-12-19T00:41:47.509264Z",
     "iopub.status.idle": "2021-12-19T00:41:50.006520Z",
     "shell.execute_reply": "2021-12-19T00:41:50.003556Z",
     "shell.execute_reply.started": "2021-12-19T00:41:47.509996Z"
    },
    "trusted": true
   },
   "outputs": [],
   "source": [
    "\n",
    "test_steps_per_epoch = math.ceil(test_set.samples / test_set.batch_size)\n",
    "\n",
    "predictions = model.predict(test_set, steps=test_steps_per_epoch)\n",
    "# Get most likely class\n",
    "predicted_classes = np.argmax(predictions, axis=1)\n",
    "\n",
    "true_classes = test_set.classes\n",
    "class_labels = list(test_set.class_indices.keys())   \n",
    "\n",
    "from sklearn.metrics import  classification_report\n",
    "report = classification_report(true_classes, predicted_classes, target_names=class_labels)\n",
    "print(report) "
   ]
  },
  {
   "cell_type": "code",
   "execution_count": 15,
   "metadata": {
    "execution": {
     "iopub.execute_input": "2021-12-19T00:41:50.009613Z",
     "iopub.status.busy": "2021-12-19T00:41:50.008704Z",
     "iopub.status.idle": "2021-12-19T00:41:51.904673Z",
     "shell.execute_reply": "2021-12-19T00:41:51.903915Z",
     "shell.execute_reply.started": "2021-12-19T00:41:50.009572Z"
    },
    "trusted": true
   },
   "outputs": [],
   "source": [
    "import itertools\n",
    "from sklearn.metrics import confusion_matrix\n",
    "def plot_confusion_matrix(cm, classes,\n",
    "                          normalize=False,\n",
    "                          title='Confusion matrix',\n",
    "                          cmap=plt.cm.Blues):\n",
    "    \"\"\"\n",
    "    This function prints and plots the confusion matrix.\n",
    "    Normalization can be applied by setting `normalize=True`.\n",
    "    \"\"\"\n",
    "    plt.imshow(cm, interpolation='nearest', cmap=cmap)\n",
    "    plt.title(title)\n",
    "    plt.colorbar()\n",
    "    tick_marks = np.arange(len(classes))\n",
    "    plt.xticks(tick_marks, classes, rotation=45)\n",
    "    plt.yticks(tick_marks, classes)\n",
    "\n",
    "    if normalize:\n",
    "        cm = cm.astype('float') / cm.sum(axis=1)[:, np.newaxis]\n",
    "\n",
    "    thresh = cm.max() / 2.\n",
    "    for i, j in itertools.product(range(cm.shape[0]), range(cm.shape[1])):\n",
    "        plt.text(j, i, cm[i, j],\n",
    "                 horizontalalignment=\"center\",\n",
    "                 color=\"white\" if cm[i, j] > thresh else \"black\")\n",
    "\n",
    "    plt.tight_layout()\n",
    "    plt.ylabel('True label')\n",
    "    plt.xlabel('Predicted label')\n",
    "\n",
    "# compute the confusion matrix\n",
    "confusion_mtx = confusion_matrix(true_classes, predicted_classes) \n",
    "# plot the confusion matrix\n",
    "\n",
    "plt.figure(figsize=(14, 14))\n",
    "plot_confusion_matrix(confusion_mtx, classes = range(num_classes)) "
   ]
  },
  {
   "cell_type": "code",
   "execution_count": 16,
   "metadata": {
    "execution": {
     "iopub.execute_input": "2021-12-19T00:41:51.906311Z",
     "iopub.status.busy": "2021-12-19T00:41:51.905919Z",
     "iopub.status.idle": "2021-12-19T00:41:52.482609Z",
     "shell.execute_reply": "2021-12-19T00:41:52.481868Z",
     "shell.execute_reply.started": "2021-12-19T00:41:51.906273Z"
    },
    "trusted": true
   },
   "outputs": [],
   "source": [
    "model.save('19_class.h5')"
   ]
  },
  {
   "cell_type": "code",
   "execution_count": 17,
   "metadata": {
    "_kg_hide-output": false,
    "execution": {
     "iopub.execute_input": "2021-12-19T00:41:52.484018Z",
     "iopub.status.busy": "2021-12-19T00:41:52.483770Z",
     "iopub.status.idle": "2021-12-19T00:42:15.905174Z",
     "shell.execute_reply": "2021-12-19T00:42:15.904302Z",
     "shell.execute_reply.started": "2021-12-19T00:41:52.483984Z"
    },
    "trusted": true
   },
   "outputs": [],
   "source": [
    "!pip install tensorflowjs[wizard]"
   ]
  },
  {
   "cell_type": "code",
   "execution_count": 18,
   "metadata": {
    "execution": {
     "iopub.execute_input": "2021-12-19T00:42:15.908001Z",
     "iopub.status.busy": "2021-12-19T00:42:15.907392Z",
     "iopub.status.idle": "2021-12-19T00:42:20.593319Z",
     "shell.execute_reply": "2021-12-19T00:42:20.592359Z",
     "shell.execute_reply.started": "2021-12-19T00:42:15.907953Z"
    },
    "trusted": true
   },
   "outputs": [],
   "source": [
    "!tensorflowjs_converter --input_format=keras /kaggle/working/19_class.h5 /kaggle/working/19_class"
   ]
  },
  {
   "cell_type": "code",
   "execution_count": 19,
   "metadata": {
    "execution": {
     "iopub.execute_input": "2021-12-19T00:42:20.604549Z",
     "iopub.status.busy": "2021-12-19T00:42:20.604171Z",
     "iopub.status.idle": "2021-12-19T00:42:21.421149Z",
     "shell.execute_reply": "2021-12-19T00:42:21.420418Z",
     "shell.execute_reply.started": "2021-12-19T00:42:20.604507Z"
    },
    "trusted": true
   },
   "outputs": [],
   "source": [
    "import shutil\n",
    "shutil.make_archive('19_class', 'zip', './19_class')"
   ]
  },
  {
   "cell_type": "code",
   "execution_count": null,
   "metadata": {},
   "outputs": [],
   "source": []
  }
 ],
 "metadata": {
  "kernelspec": {
   "display_name": "Python 3",
   "language": "python",
   "name": "python3"
  },
  "language_info": {
   "codemirror_mode": {
    "name": "ipython",
    "version": 3
   },
   "file_extension": ".py",
   "mimetype": "text/x-python",
   "name": "python",
   "nbconvert_exporter": "python",
   "pygments_lexer": "ipython3",
   "version": "3.7.12"
  }
 },
 "nbformat": 4,
 "nbformat_minor": 4
}
